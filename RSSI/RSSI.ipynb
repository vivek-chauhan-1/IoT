{
 "cells": [
  {
   "cell_type": "markdown",
   "id": "52222331",
   "metadata": {},
   "source": [
    "### Problem 3: RSSI Model"
   ]
  },
  {
   "cell_type": "code",
   "execution_count": 1,
   "id": "eeb7bb8b",
   "metadata": {},
   "outputs": [],
   "source": [
    "import pandas as pd\n",
    "import numpy as np\n",
    "import math\n",
    "from matplotlib import pyplot as plt "
   ]
  },
  {
   "cell_type": "code",
   "execution_count": 2,
   "id": "5a950bfe",
   "metadata": {},
   "outputs": [],
   "source": [
    "def calculate_distance(a : list, b : list) -> float:\n",
    "    assert len(a) == 3 and len(b) == 3 , \"3 dimensional coordinates should be provided\"\n",
    "    distance = round(np.sqrt(np.sum(np.square(np.subtract(a,b)))), 3)\n",
    "    return distance"
   ]
  },
  {
   "cell_type": "code",
   "execution_count": 3,
   "id": "9ed8b83b",
   "metadata": {},
   "outputs": [],
   "source": [
    "#parameters\n",
    "n = 4    #path loss parameter \n",
    "A = -50  # avg measured RSSI whern the received node is 1m away from transmitting node\n",
    "\n",
    "#Coordinates for Wireless devices\n",
    "device1_coords = [0, 30, 3] \n",
    "device2_coords = [50, 60, 4]\n",
    "device3_coords = [100, 30, 3]"
   ]
  },
  {
   "cell_type": "markdown",
   "id": "3a950f3c",
   "metadata": {},
   "source": [
    "RSSI distance measurement generally uses the logarithmic distance path-loss\n",
    "model. It is expressed as \n",
    "    RSSI = -10nlog(d/d_0) + A + X_sigma\n",
    "\n",
    "For convenience of calculation, d0 usually takes a value of 1 meter. Since Xs has a mean of 0,\n",
    "the distance-loss model can be obtained with\n",
    "    RSSI  = -10nlog(d) + A`\n",
    "    \n",
    "where A` where A is the average measured RSSI when the received node is 1 meter away from the transmit\n",
    "node"
   ]
  },
  {
   "cell_type": "code",
   "execution_count": 4,
   "id": "56d7475f",
   "metadata": {},
   "outputs": [],
   "source": [
    "def calculate_RSSI(n : int , distance : float, A : int ) -> float:\n",
    "    rssi = round( (-10*n*math.log(distance) + A), 3 )\n",
    "    return rssi"
   ]
  },
  {
   "cell_type": "markdown",
   "id": "ab613932",
   "metadata": {},
   "source": [
    "#### 1. Generate an RSSI profile as a function of the distance d, for d=1 to 140m :"
   ]
  },
  {
   "cell_type": "code",
   "execution_count": 5,
   "id": "c46b57d3",
   "metadata": {},
   "outputs": [
    {
     "name": "stdout",
     "output_type": "stream",
     "text": [
      "RSSI profile values for d = 1 to 140 are : \n",
      " [-50.0, -77.726, -93.944, -105.452, -114.378, -121.67, -127.836, -133.178, -137.889, -142.103, -145.916, -149.396, -152.598, -155.562, -158.322, -160.904, -163.329, -165.615, -167.778, -169.829, -171.781, -173.642, -175.42, -177.122, -178.755, -180.324, -181.833, -183.288, -184.692, -186.048, -187.359, -188.629, -189.86, -191.054, -192.214, -193.341, -194.437, -195.503, -196.542, -197.555, -198.543, -199.507, -200.448, -201.368, -202.266, -203.146, -204.006, -204.848, -205.673, -206.481, -207.273, -208.05, -208.812, -209.559, -210.293, -211.014, -211.722, -212.418, -213.101, -213.774, -214.435, -215.085, -215.725, -216.355, -216.975, -217.586, -218.188, -218.78, -219.364, -219.94, -220.507, -221.067, -221.618, -222.163, -222.7, -223.229, -223.752, -224.268, -224.778, -225.281, -225.778, -226.269, -226.754, -227.233, -227.706, -228.174, -228.636, -229.093, -229.545, -229.992, -230.434, -230.872, -231.304, -231.732, -232.155, -232.574, -232.988, -233.399, -233.805, -234.207, -234.605, -234.999, -235.389, -235.776, -236.158, -236.538, -236.913, -237.285, -237.654, -238.019, -238.381, -238.74, -239.096, -239.448, -239.797, -240.144, -240.487, -240.827, -241.165, -241.5, -241.832, -242.161, -242.487, -242.811, -243.133, -243.451, -243.767, -244.081, -244.392, -244.701, -245.008, -245.312, -245.614, -245.914, -246.211, -246.506, -246.799, -247.09, -247.379, -247.666]\n"
     ]
    }
   ],
   "source": [
    "rssi_profile = list()\n",
    "\n",
    "for d in range(1,141):\n",
    "    rssi_profile.append(calculate_RSSI(n, d, A))\n",
    "    \n",
    "print(f'RSSI profile values for d = 1 to 140 are : \\n {rssi_profile}')"
   ]
  },
  {
   "cell_type": "code",
   "execution_count": 6,
   "id": "1201be72",
   "metadata": {},
   "outputs": [
    {
     "name": "stdout",
     "output_type": "stream",
     "text": [
      " Mean of RSSI profile is : -208.63434285714283\n",
      " Standard deviation of RSSI profile is : 37.5537969597847\n"
     ]
    }
   ],
   "source": [
    "print(f' Mean of RSSI profile is : {np.mean(rssi_profile)}')\n",
    "print(f' Standard deviation of RSSI profile is : {np.std(rssi_profile)}')"
   ]
  },
  {
   "cell_type": "code",
   "execution_count": 7,
   "id": "3f4eb5f4",
   "metadata": {},
   "outputs": [
    {
     "data": {
      "image/png": "[encoded data removed]",
      "text/plain": [
       "<Figure size 720x720 with 1 Axes>"
      ]
     },
     "metadata": {
      "needs_background": "light"
     },
     "output_type": "display_data"
    }
   ],
   "source": [
    "plt.figure(figsize = (10,10))\n",
    "plt.plot(rssi_profile)\n",
    "plt.xlabel('Distance')\n",
    "plt.ylabel('RSSI')\n",
    "plt.title('RSSI profile')\n",
    "plt.grid()\n",
    "plt.show()"
   ]
  },
  {
   "cell_type": "markdown",
   "id": "fc7d277c",
   "metadata": {},
   "source": [
    "#### 2. Generate the fingerprint for the tile grid. Each grid tile fingerprint is the RSSI readings from the three devices measured at that particular tile. Use the center of the tile for your calculations"
   ]
  },
  {
   "cell_type": "code",
   "execution_count": 8,
   "id": "412695b7",
   "metadata": {},
   "outputs": [],
   "source": [
    "def calculate_RSSI_PLM(distance : float, n: int = 4, A : int = -50) -> float :\n",
    "    \"\"\"\n",
    "    RSSI is modeleled using path loss model, incorporates the \n",
    "    random normal noise signal with mean = 0 and sd = 5.1 (given)\n",
    "    \n",
    "    Args :\n",
    "        n: path loss parameter , default value of 4 \n",
    "        A: avg measured RSSI whern the received node is 1m away from transmitting node , default value of -50 \n",
    "        distance : coordinates of tile\n",
    "        \n",
    "    Returns :\n",
    "        RSSI value of float type\n",
    "    \"\"\"\n",
    "    mean = 0\n",
    "    sd = 5.1\n",
    "    op_size = 1 #ouput size\n",
    "    X_sigma = np.random.normal(mean, sd, op_size)[0]\n",
    "    #print(f'X_sigma is :{X_sigma}')\n",
    "    rssi_plm = round( (-10*n*math.log(distance) + A + X_sigma), 3 )\n",
    "    return rssi_plm"
   ]
  },
  {
   "cell_type": "code",
   "execution_count": 9,
   "id": "b60932e6",
   "metadata": {},
   "outputs": [],
   "source": [
    "def fingerprint(coords : list, device1_coords : float, device2_coords : list, device3_coords : float) -> list:\n",
    "    \"\"\"\n",
    "    Calcualtes 3 RSSI value at given coordinates with respect to 3 wireless devices.\n",
    "    Makes use of `calculate distance` method to calculates distance\n",
    "    \n",
    "    Args :\n",
    "        coords : grid tile location\n",
    "        device1_coords : Coordinates of wireless device 1\n",
    "        device1_coords : Coordinates of wireless device 2\n",
    "        device1_coords : Coordinates of wireless device 3\n",
    "        \n",
    "    Returns :\n",
    "        List of 3 calculated RSSI values [rssi_1, rssi_2, rssi_3]\n",
    "        \n",
    "    \"\"\"\n",
    "    rssi_1 = calculate_RSSI_PLM(distance = calculate_distance(coords, device1_coords))\n",
    "    rssi_2 = calculate_RSSI_PLM(distance = calculate_distance(device1_coords, device2_coords))\n",
    "    rssi_3 = calculate_RSSI_PLM(distance = calculate_distance(device2_coords, device3_coords))\n",
    "    return [rssi_1, rssi_2, rssi_3]"
   ]
  },
  {
   "cell_type": "code",
   "execution_count": 10,
   "id": "c06c0d02",
   "metadata": {},
   "outputs": [],
   "source": [
    "def generate_grid(min_of_grid, max_of_grid):\n",
    "    \"\"\"\n",
    "        Building of a rectangular shape: 100mx60mx5m\n",
    "        The floor of the building is a grid of equal size square-tiles.\n",
    "        It suffices to locate the device roaming inside the building in terms of a tile index.\n",
    "        Each tile is assumed to be 1*1 and each tile would be characterized by index in grid\n",
    "    \"\"\"\n",
    "    \n",
    "    tile_centres = list()\n",
    "    for x in np.arange(min_of_grid[0], max_of_grid[0], 1):\n",
    "        for y in np.arange(min_of_grid[1], max_of_grid[1], 1):\n",
    "            #print(x, y)\n",
    "            tile_centres.append([x,y,0]) #zero to retain 3D coordinate system\n",
    "    return tile_centres"
   ]
  },
  {
   "cell_type": "code",
   "execution_count": 11,
   "id": "4f070eed",
   "metadata": {},
   "outputs": [],
   "source": [
    "min_of_grid, max_of_grid = [0.5, 0.5], [100, 60]\n",
    "grid_tile_centre_coords = generate_grid(min_of_grid, max_of_grid)"
   ]
  },
  {
   "cell_type": "code",
   "execution_count": 12,
   "id": "809f378d",
   "metadata": {},
   "outputs": [
    {
     "data": {
      "text/plain": [
       "[[0.5, 0.5, 0],\n",
       " [0.5, 1.5, 0],\n",
       " [0.5, 2.5, 0],\n",
       " [0.5, 3.5, 0],\n",
       " [0.5, 4.5, 0],\n",
       " [0.5, 5.5, 0],\n",
       " [0.5, 6.5, 0],\n",
       " [0.5, 7.5, 0],\n",
       " [0.5, 8.5, 0],\n",
       " [0.5, 9.5, 0]]"
      ]
     },
     "execution_count": 12,
     "metadata": {},
     "output_type": "execute_result"
    }
   ],
   "source": [
    "grid_tile_centre_coords[:10]"
   ]
  },
  {
   "cell_type": "code",
   "execution_count": 13,
   "id": "413610b6",
   "metadata": {},
   "outputs": [
    {
     "data": {
      "text/plain": [
       "array([ 0.5,  0.5,  0.5, ..., 99.5, 99.5, 99.5])"
      ]
     },
     "execution_count": 13,
     "metadata": {},
     "output_type": "execute_result"
    }
   ],
   "source": [
    "np.array(grid_tile_centre_coords)[:,0]"
   ]
  },
  {
   "cell_type": "code",
   "execution_count": 14,
   "id": "6a40bc7f",
   "metadata": {},
   "outputs": [
    {
     "data": {
      "image/png": "[encoded data removed]",
      "text/plain": [
       "<Figure size 1080x648 with 1 Axes>"
      ]
     },
     "metadata": {
      "needs_background": "light"
     },
     "output_type": "display_data"
    }
   ],
   "source": [
    "plt.figure(figsize = (15,9))\n",
    "plt.scatter(np.array(grid_tile_centre_coords)[:,0], np.array(grid_tile_centre_coords)[:,1])\n",
    "plt.xlabel('Length')\n",
    "plt.ylabel('Width')\n",
    "plt.title('Grid with tile centres')\n",
    "plt.grid()\n",
    "plt.show()"
   ]
  },
  {
   "cell_type": "code",
   "execution_count": 15,
   "id": "b5e58809",
   "metadata": {},
   "outputs": [
    {
     "name": "stdout",
     "output_type": "stream",
     "text": [
      "Shape of grid fingerprint is : (6000, 3)\n",
      "Fingerprint for grid is as follows: \n",
      "          0        1        2\n",
      "0 -188.183 -218.902 -217.348\n",
      "1 -185.677 -220.091 -210.835\n",
      "2 -176.842 -207.828 -209.997\n",
      "3 -188.351 -204.181 -220.859\n",
      "4 -186.889 -214.920 -202.021\n"
     ]
    }
   ],
   "source": [
    "grid_fingerprint = list()\n",
    "\n",
    "for d in range(len(grid_tile_centre_coords)):\n",
    "    grid_fingerprint.append(fingerprint(grid_tile_centre_coords[d], device1_coords, device2_coords, device3_coords))\n",
    "\n",
    "print(f'Shape of grid fingerprint is : {np.array(grid_fingerprint).shape}')\n",
    "\n",
    "df_fingerprint = pd.DataFrame(np.array(grid_fingerprint))\n",
    "print(f'Fingerprint for grid is as follows: \\n {df_fingerprint.head(5)}')\n",
    "df_fingerprint.to_csv(r'A3_q2_2.csv')"
   ]
  },
  {
   "cell_type": "markdown",
   "id": "840113cc",
   "metadata": {},
   "source": [
    "#### 3. Consider a roaming device, placed at the centre of tile indexed by (30 on the x-dimension, 45 on the y-dimension,0 on the z-dimension). Estimate the RSSI readings using the same model."
   ]
  },
  {
   "cell_type": "code",
   "execution_count": 16,
   "id": "65d45b3f",
   "metadata": {},
   "outputs": [
    {
     "name": "stdout",
     "output_type": "stream",
     "text": [
      "RSSI for roaming device is : [-184.777, -218.98, -210.027]\n"
     ]
    }
   ],
   "source": [
    "roaming_device_coords = [30, 45, 0]\n",
    "print(f'RSSI for roaming device is : {fingerprint(roaming_device_coords, device1_coords, device2_coords, device3_coords)}')"
   ]
  },
  {
   "cell_type": "markdown",
   "id": "7a10448a",
   "metadata": {},
   "source": [
    "#### 4. Compute the tile location of the roaming device by matching its RSSI readings as in 3 above, with that stored in the grid fingerprint. Repeat this ten times and compute the mean location value. "
   ]
  },
  {
   "cell_type": "code",
   "execution_count": 17,
   "id": "957116e8",
   "metadata": {},
   "outputs": [],
   "source": [
    "f = np.array(grid_fingerprint)"
   ]
  },
  {
   "cell_type": "code",
   "execution_count": 18,
   "id": "56699c22",
   "metadata": {},
   "outputs": [
    {
     "data": {
      "text/plain": [
       "[array([-188.183, -218.902, -217.348])]"
      ]
     },
     "execution_count": 18,
     "metadata": {},
     "output_type": "execute_result"
    }
   ],
   "source": [
    "[f[0]]"
   ]
  },
  {
   "cell_type": "code",
   "execution_count": 19,
   "id": "a328e970",
   "metadata": {},
   "outputs": [],
   "source": [
    "def location(f : list, r : list):\n",
    "    \"\"\"\n",
    "        Compute the tile location of the roaming device by matching its RSSI readings,\n",
    "        with that stored in the grid fingerprint RSSI values list\n",
    "        \n",
    "    Args :\n",
    "        f: grid fingerprint RSSI values list\n",
    "        r : rssi value for roaming device\n",
    "        \n",
    "    Returns :\n",
    "        tile location :index of tile in grid and roaming matching rssi\n",
    "    \"\"\"\n",
    "    roaming_device_tile_match_index = 0\n",
    "    roaming_device_rssi_match = [f[0]] #start point for comparing\n",
    "    \n",
    "    rssi_diff = math.sqrt((r[0] - f[0][0])**2 + (r[1] - f[0][1])**2 + (r[2] - f[0][2])**2)\n",
    "    \n",
    "    for i in range(len(f)):\n",
    "        if rssi_diff > (math.sqrt((r[0] - f[i][0])**2 + (r[1] - f[i][1])**2 + (r[2] - f[i][2])**2)):\n",
    "            roaming_device_tile_match_index = i\n",
    "            roaming_device_rssi_match = [f[i]]\n",
    "            rssi_diff = math.sqrt((r[0] - f[i][0])**2 + (r[1] - f[i][1])**2 + (r[2] - f[i][2])**2)\n",
    "    return roaming_device_tile_match_index, roaming_device_rssi_match"
   ]
  },
  {
   "cell_type": "code",
   "execution_count": 20,
   "id": "25fb8ac8",
   "metadata": {},
   "outputs": [
    {
     "name": "stdout",
     "output_type": "stream",
     "text": [
      "Grid tile centre coordinates for 10 runs are : \n",
      " [[27.5, 50.5, 0], [4.5, 5.5, 0], [29.5, 49.5, 0], [17.5, 57.5, 0], [39.5, 28.5, 0], [25.5, 34.5, 0], [25.5, 54.5, 0], [36.5, 36.5, 0], [43.5, 14.5, 0], [31.5, 37.5, 0]]\n",
      "RSSI for 10 runs are : \n",
      " [[array([-191.386, -220.12 , -203.637])], [array([-185.187, -211.822, -211.257])], [array([-185.766, -222.48 , -206.215])], [array([-178.556, -215.243, -216.645])], [array([-190.831, -203.516, -215.303])], [array([-180.5  , -205.732, -214.47 ])], [array([-194.236, -207.582, -213.677])], [array([-193.197, -210.486, -215.345])], [array([-193.468, -213.691, -217.433])], [array([-187.88 , -214.908, -208.346])]]\n",
      "Mean location value is : [28.1 36.9  0. ]\n"
     ]
    }
   ],
   "source": [
    "roamimg_index_rssi_list = []\n",
    "roaming_tile_matching_index = []\n",
    "roaming_tile_rssi = []\n",
    "grid_centre_match_coords = []\n",
    "\n",
    "for i in range(10):\n",
    "    roaming_rssi = fingerprint(roaming_device_coords, device1_coords, device2_coords, device3_coords)\n",
    "    roamimg_index_rssi_list.append(location(np.array(grid_fingerprint), roaming_rssi))\n",
    "for i in range(10):\n",
    "    roaming_tile_matching_index.append(roamimg_index_rssi_list[i][0])\n",
    "    roaming_tile_rssi.append(roamimg_index_rssi_list[i][1])\n",
    "    grid_centre_match_coords.append(grid_tile_centre_coords[roamimg_index_rssi_list[i][0]])\n",
    "\n",
    "print(f'Grid tile centre coordinates for 10 runs are : \\n {grid_centre_match_coords}')\n",
    "print(f'RSSI for 10 runs are : \\n {roaming_tile_rssi}')\n",
    "\n",
    "mean_location = np.mean(np.array(grid_centre_match_coords), axis =0)\n",
    "print(f'Mean location value is : {mean_location}')"
   ]
  },
  {
   "cell_type": "markdown",
   "id": "e9afe0f3",
   "metadata": {},
   "source": [
    "#### 5. Compute the location error, i,e, the distance between the true tile location and the mean location value"
   ]
  },
  {
   "cell_type": "code",
   "execution_count": 21,
   "id": "9e41a29a",
   "metadata": {},
   "outputs": [
    {
     "name": "stdout",
     "output_type": "stream",
     "text": [
      "Location error is : 8.32\n"
     ]
    }
   ],
   "source": [
    "r = roaming_device_coords = [30, 45, 0]\n",
    "location_error = np.sqrt((mean_location[0] - r[0])**2 + (mean_location[1] - r[1])**2 +(mean_location[2] - r[2])**2)\n",
    "print(f'Location error is : {round(location_error, 3)}')"
   ]
  },
  {
   "cell_type": "markdown",
   "id": "de615dcf",
   "metadata": {},
   "source": [
    "#### 6. Using the estimated reading in 3 above and the RSSI model, compute the distance between the roaming device and each wireless anchor. Use a triangulation technique to estimate the three dimensional location of the roaming device. Compare that to true location."
   ]
  },
  {
   "cell_type": "code",
   "execution_count": 22,
   "id": "adb9dabd",
   "metadata": {},
   "outputs": [],
   "source": [
    "def distance_for_trilateration(roaming_device_rssi):\n",
    "    dist_A = math.exp((A - roaming_device_rssi[0])/ (10*n))\n",
    "    dist_B = math.exp((A - roaming_device_rssi[1])/ (10*n))\n",
    "    dist_C = math.exp((A - roaming_device_rssi[2])/ (10*n))\n",
    "    return dist_A, dist_B, dist_C"
   ]
  },
  {
   "cell_type": "code",
   "execution_count": 23,
   "id": "52bea174",
   "metadata": {},
   "outputs": [],
   "source": [
    "roaming_device_rssi = fingerprint(roaming_device_coords, device1_coords, device2_coords, device3_coords)"
   ]
  },
  {
   "cell_type": "code",
   "execution_count": 24,
   "id": "87145a70",
   "metadata": {},
   "outputs": [],
   "source": [
    "def calcualte_trilateration(device1_coords, device2_coords, device3_coords, r1, r2, r3):\n",
    "\n",
    "    p1 = np.array([0, 0, 0])\n",
    "    p2 = np.array([device2_coords[0] - device1_coords[0], device2_coords[1] - device1_coords[1], device2_coords[2] - device1_coords[2]])\n",
    "    p3 = np.array([device3_coords[0] - device1_coords[0], device3_coords[1] - device1_coords[1], device3_coords[2] - device1_coords[2]])\n",
    "    v1 = p2 - p1\n",
    "    v2 = p3 - p1\n",
    "\n",
    "    Xn = (v1)/np.linalg.norm(v1)\n",
    "\n",
    "    tmp = np.cross(v1, v2)\n",
    "\n",
    "    Zn = (tmp)/np.linalg.norm(tmp)\n",
    "\n",
    "    Yn = np.cross(Xn, Zn)\n",
    "\n",
    "    i = np.dot(Xn, v2)\n",
    "    d = np.dot(Xn, v1)\n",
    "    j = np.dot(Yn, v2)\n",
    "\n",
    "    X = ((r1**2)-(r2**2)+(d**2))/(2*d)\n",
    "    Y = (((r1**2)-(r3**2)+(i**2)+(j**2))/(2*j))-((i/j)*(X))\n",
    "    Z1 = np.sqrt(max(0, r1**2-X**2-Y**2))\n",
    "    Z2 = -Z1\n",
    "\n",
    "    K1 = device1_coords + X * Xn + Y * Yn + Z1 * Zn\n",
    "    return abs(K1)"
   ]
  },
  {
   "cell_type": "code",
   "execution_count": 25,
   "id": "cb99b1aa",
   "metadata": {},
   "outputs": [],
   "source": [
    "r1, r2, r3 = distance_for_trilateration(roaming_device_rssi)\n",
    "trilaterated_location = calcualte_trilateration(device1_coords, device2_coords, device3_coords, r1, r2, r3)"
   ]
  },
  {
   "cell_type": "code",
   "execution_count": 26,
   "id": "cb1fa15c",
   "metadata": {},
   "outputs": [
    {
     "name": "stdout",
     "output_type": "stream",
     "text": [
      "Trilaterated location is : [43.16939551 27.50794352  1.08306855]\n"
     ]
    }
   ],
   "source": [
    "print(f'Trilaterated location is : {trilaterated_location}')"
   ]
  },
  {
   "cell_type": "code",
   "execution_count": 27,
   "id": "74bf0c57",
   "metadata": {},
   "outputs": [
    {
     "name": "stdout",
     "output_type": "stream",
     "text": [
      "Location error using trilateration method is : 21.922\n"
     ]
    }
   ],
   "source": [
    "roaming_device_coords = [30, 45, 0]\n",
    "trilateration_location_error = np.sqrt((trilaterated_location[0] - r[0])**2 + (trilaterated_location[1] - r[1])**2 +(trilaterated_location[2] - r[2])**2)\n",
    "print(f'Location error using trilateration method is : {round(trilateration_location_error, 3)}')"
   ]
  },
  {
   "cell_type": "markdown",
   "id": "529931a3",
   "metadata": {},
   "source": [
    "### References:\n",
    "\n",
    "[1]. Retrieved from URL: https://stackoverflow.com/questions/56058383/i-want-to-implement-trilateration-in-python-i-cant-t-find-what-is-wrong-with-m"
   ]
  }
 ],
 "metadata": {
  "kernelspec": {
   "display_name": "Python 3 (ipykernel)",
   "language": "python",
   "name": "python3"
  },
  "language_info": {
   "codemirror_mode": {
    "name": "ipython",
    "version": 3
   },
   "file_extension": ".py",
   "mimetype": "text/x-python",
   "name": "python",
   "nbconvert_exporter": "python",
   "pygments_lexer": "ipython3",
   "version": "3.9.7"
  }
 },
 "nbformat": 4,
 "nbformat_minor": 5
}

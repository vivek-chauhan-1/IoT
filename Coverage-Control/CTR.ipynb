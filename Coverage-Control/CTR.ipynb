{
 "cells": [
  {
   "cell_type": "code",
   "execution_count": 10,
   "id": "f92b5889",
   "metadata": {},
   "outputs": [],
   "source": [
    "import random\n",
    "import math\n",
    "import numpy as np\n",
    "import matplotlib.pyplot as plt\n",
    "\n",
    "random.seed(42)"
   ]
  },
  {
   "cell_type": "code",
   "execution_count": 11,
   "id": "b12a3932",
   "metadata": {},
   "outputs": [],
   "source": [
    "def function_n(n):\n",
    "    return n*2\n",
    "\n",
    "def ctr_2d_simple(n): \n",
    "    r_c = math.sqrt((math.log(n) + function_n(n)) / pi*n)\n",
    "    return r_c\n",
    "\n",
    "def ctr_2d_kconn(n, k):\n",
    "    r_ck = math.sqrt((math.log(n) + function_n(n) + (2*k - 3)*math.log(math.log(n))) / pi*n)\n",
    "    return r_ck\n",
    "\n",
    "def prob_kconn(k, n, r_0, A):\n",
    "    summation = 0\n",
    "    d = n/A\n",
    "    c = d * pi * pow(r_0, 2) \n",
    "    for i in range(k):\n",
    "        s = pow(c, i) / math.factorial(i) * math.exp(-1 * c)\n",
    "        summation += s\n",
    "        #print(\"Summation is :\", summation)\n",
    "    p_k = pow((1 - summation), n)\n",
    "    return p_k"
   ]
  },
  {
   "cell_type": "markdown",
   "id": "a41a6265",
   "metadata": {},
   "source": [
    "## 1a. Assumptions:\n",
    "\n",
    "1. Range is assumed to be 220\n",
    "2. Area is given to us as 1000 * 1000\n",
    "3. Number of sensors considered is 100\n",
    "4. K - Connectivity profile id drawn for 12 degrees"
   ]
  },
  {
   "cell_type": "code",
   "execution_count": 12,
   "id": "cb27bf4e",
   "metadata": {},
   "outputs": [
    {
     "name": "stdout",
     "output_type": "stream",
     "text": [
      "CTR is : 80.70182676650944\n",
      "k connectivity ctr is : 81.00244737499608\n"
     ]
    }
   ],
   "source": [
    "#Assumptions: Range, Area, Number of Sensors\n",
    "\n",
    "pi = math.pi\n",
    "r_0 = 220 #range\n",
    "A = 1000*1000 #Area\n",
    "n = 100 #Number of sensors\n",
    "k = 2\n",
    "#A = 64 \n",
    "#K = 50\n",
    "r_c = ctr_2d_simple(n)\n",
    "print(f'CTR is : {r_c}')\n",
    "r_ck = ctr_2d_kconn(n, k)\n",
    "print(f'k connectivity ctr is : {r_ck}')\n",
    "#p_c = prob_kconn(k, n, r_0, A)\n",
    "#print(f'probability of {k} connectivity is : {p_c}')"
   ]
  },
  {
   "cell_type": "markdown",
   "id": "53e5de83",
   "metadata": {},
   "source": [
    "### 1. b. \n",
    "\n",
    "Simple CTR (k = 1) for 2D surface area is calculated above to be 80.7018\n",
    "Formulation for network connectivity attribute is given as in the above method `ctr_2d_kconn` which is referenced from slide. It returns the probability of atleast k connectivity. "
   ]
  },
  {
   "cell_type": "code",
   "execution_count": 13,
   "id": "c3ccd051",
   "metadata": {},
   "outputs": [
    {
     "name": "stdout",
     "output_type": "stream",
     "text": [
      "probability of 1 connectivity is : 0.9999750877420681\n"
     ]
    }
   ],
   "source": [
    "k=1\n",
    "p_c = prob_kconn(k, n, r_0, A)\n",
    "print(f'probability of {k} connectivity is : {p_c}')"
   ]
  },
  {
   "cell_type": "code",
   "execution_count": 14,
   "id": "119822f6",
   "metadata": {},
   "outputs": [
    {
     "name": "stdout",
     "output_type": "stream",
     "text": [
      "probability of 2 connectivity is : 0.9995963648653317\n"
     ]
    }
   ],
   "source": [
    "k=2 \n",
    "p_c = prob_kconn(k, n, r_0, A)\n",
    "print(f'probability of {k} connectivity is : {p_c}')"
   ]
  },
  {
   "cell_type": "code",
   "execution_count": 15,
   "id": "6107960e",
   "metadata": {},
   "outputs": [
    {
     "name": "stdout",
     "output_type": "stream",
     "text": [
      "probability of 7 connectivity is : 0.5106978629107518\n"
     ]
    }
   ],
   "source": [
    "k=7 \n",
    "p_c = prob_kconn(k, n, r_0, A)\n",
    "print(f'probability of {k} connectivity is : {p_c}')"
   ]
  },
  {
   "cell_type": "code",
   "execution_count": 16,
   "id": "a40626d8",
   "metadata": {},
   "outputs": [
    {
     "name": "stdout",
     "output_type": "stream",
     "text": [
      "1\n",
      "0.9999748949676818\n",
      "0.9995683405904864\n",
      "0.9962692551365474\n",
      "0.9785013179973371\n",
      "0.9088527023792202\n",
      "0.7121181732962114\n",
      "0.3616352112009621\n",
      "0.07046738511760349\n",
      "0.00206489339535867\n",
      "1.8520007803052566e-06\n",
      "3.08697009231893e-12\n"
     ]
    }
   ],
   "source": [
    "K = 12\n",
    "n = 100\n",
    "A = 1000*1000\n",
    "d = n/A\n",
    "r_0 = 220\n",
    "summation = 0\n",
    "d = n/A\n",
    "pi = 3.14\n",
    "c = d * pi * pow(r_0, 2)\n",
    "p_k_list = []\n",
    "for k in range(K):\n",
    "    for i in range(k):\n",
    "        s = (pow(c, i) / math.factorial(i) ) * math.exp(-1 * c)\n",
    "        summation += s\n",
    "    p_k = pow((1- summation ), n)\n",
    "    print(p_k)\n",
    "    p_k_list.append(p_k)"
   ]
  },
  {
   "cell_type": "code",
   "execution_count": 17,
   "id": "148b9699",
   "metadata": {},
   "outputs": [
    {
     "data": {
      "text/plain": [
       "[1,\n",
       " 0.9999748949676818,\n",
       " 0.9995683405904864,\n",
       " 0.9962692551365474,\n",
       " 0.9785013179973371,\n",
       " 0.9088527023792202,\n",
       " 0.7121181732962114,\n",
       " 0.3616352112009621,\n",
       " 0.07046738511760349,\n",
       " 0.00206489339535867,\n",
       " 1.8520007803052566e-06,\n",
       " 3.08697009231893e-12]"
      ]
     },
     "execution_count": 17,
     "metadata": {},
     "output_type": "execute_result"
    }
   ],
   "source": [
    "p_k_list"
   ]
  },
  {
   "cell_type": "markdown",
   "id": "1c2d20ab",
   "metadata": {},
   "source": [
    "### Probability profile for different connectivity"
   ]
  },
  {
   "cell_type": "code",
   "execution_count": 18,
   "id": "00a971aa",
   "metadata": {},
   "outputs": [
    {
     "data": {
      "text/plain": [
       "<matplotlib.collections.PathCollection at 0x29c8f97a9d0>"
      ]
     },
     "execution_count": 18,
     "metadata": {},
     "output_type": "execute_result"
    },
    {
     "data": {
      "image/png": "[encoded data removed]",
      "text/plain": [
       "<Figure size 432x288 with 1 Axes>"
      ]
     },
     "metadata": {
      "needs_background": "light"
     },
     "output_type": "display_data"
    }
   ],
   "source": [
    "plt.scatter(p_k_list, range(K))"
   ]
  },
  {
   "cell_type": "code",
   "execution_count": 20,
   "id": "1f92bc33",
   "metadata": {},
   "outputs": [
    {
     "data": {
      "text/plain": [
       "5.062868572144752"
      ]
     },
     "execution_count": 20,
     "metadata": {},
     "output_type": "execute_result"
    }
   ],
   "source": [
    "n= 50\n",
    "#fn = log (log(n))\n",
    "#ctr_2d_simple(50)\n",
    "\n",
    "\n",
    "def ctr_2d_simple(n): \n",
    "    r_c = math.sqrt((math.log(n)) + math.log(math.log(n)) / pi*n)\n",
    "    return r_c\n",
    "\n",
    "ctr_2d_simple(50)"
   ]
  },
  {
   "cell_type": "code",
   "execution_count": null,
   "id": "85b03142",
   "metadata": {},
   "outputs": [],
   "source": [
    "def ctr_2d_simple(n): \n",
    "    r_c = math.sqrt((math.log(n) + function_n(n)) / pi*n)\n",
    "    return r_c"
   ]
  }
 ],
 "metadata": {
  "kernelspec": {
   "display_name": "Python 3 (ipykernel)",
   "language": "python",
   "name": "python3"
  },
  "language_info": {
   "codemirror_mode": {
    "name": "ipython",
    "version": 3
   },
   "file_extension": ".py",
   "mimetype": "text/x-python",
   "name": "python",
   "nbconvert_exporter": "python",
   "pygments_lexer": "ipython3",
   "version": "3.9.7"
  }
 },
 "nbformat": 4,
 "nbformat_minor": 5
}
